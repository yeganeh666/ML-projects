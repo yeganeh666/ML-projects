{
  "nbformat": 4,
  "nbformat_minor": 0,
  "metadata": {
    "colab": {
      "provenance": [],
      "authorship_tag": "ABX9TyNn6trmxp3Zhr+hZZ1gGZS8",
      "include_colab_link": true
    },
    "kernelspec": {
      "name": "python3",
      "display_name": "Python 3"
    },
    "language_info": {
      "name": "python"
    }
  },
  "cells": [
    {
      "cell_type": "markdown",
      "metadata": {
        "id": "view-in-github",
        "colab_type": "text"
      },
      "source": [
        "<a href=\"https://colab.research.google.com/github/yeganeh666/ML-projects/blob/master/Classification_Model_for_the_Iris_data_set.ipynb\" target=\"_parent\"><img src=\"https://colab.research.google.com/assets/colab-badge.svg\" alt=\"Open In Colab\"/></a>"
      ]
    },
    {
      "cell_type": "markdown",
      "source": [
        "## **Load the *iris* data set**"
      ],
      "metadata": {
        "id": "qN1DF2ssgtzU"
      }
    },
    {
      "cell_type": "code",
      "execution_count": 9,
      "metadata": {
        "colab": {
          "base_uri": "https://localhost:8080/"
        },
        "id": "IjhIFKc_gFj9",
        "outputId": "7f9d2c7a-070f-47fc-825d-ac828187556a"
      },
      "outputs": [
        {
          "output_type": "stream",
          "name": "stdout",
          "text": [
            "feature names:  ['sepal length (cm)', 'sepal width (cm)', 'petal length (cm)', 'petal width (cm)']\n",
            "target names:  ['setosa' 'versicolor' 'virginica']\n"
          ]
        }
      ],
      "source": [
        "from sklearn import datasets\n",
        "from sklearn.datasets import make_classification\n",
        "from sklearn.model_selection import train_test_split\n",
        "from sklearn.ensemble import RandomForestClassifier\n",
        "\n",
        "\n",
        "iris = datasets.load_iris()\n",
        "print('feature names: ',iris.feature_names)\n",
        "print('target names: ', iris.target_names)"
      ]
    },
    {
      "cell_type": "markdown",
      "source": [
        "## **Preprate data**"
      ],
      "metadata": {
        "id": "FFtuIo7Ls_jC"
      }
    },
    {
      "cell_type": "code",
      "source": [
        "x = iris.data\n",
        "y = iris.target\n",
        "\n",
        "print('data dimension: ',x.shape)\n",
        "print('targest dimension: ', y.shape)\n",
        "\n",
        "x_train, x_test, y_train, y_test = train_test_split(x, y, test_size=0.2)\n",
        "\n",
        "print('data train dimension: ',x_train.shape)\n",
        "print('targest train dimension: ', y_train.shape)\n",
        "\n",
        "print('data test dimension: ',x_test.shape)\n",
        "print('targest test dimension: ', y_test.shape)"
      ],
      "metadata": {
        "colab": {
          "base_uri": "https://localhost:8080/"
        },
        "id": "meohl_5ctLQt",
        "outputId": "79df1ab0-87d4-4976-b0f5-c63b3d585b38"
      },
      "execution_count": 12,
      "outputs": [
        {
          "output_type": "stream",
          "name": "stdout",
          "text": [
            "data dimension:  (150, 4)\n",
            "targest dimension:  (150,)\n",
            "data train dimension:  (120, 4)\n",
            "targest train dimension:  (120,)\n",
            "data test dimension:  (30, 4)\n",
            "targest test dimension:  (30,)\n"
          ]
        }
      ]
    },
    {
      "cell_type": "markdown",
      "source": [
        "## **Model building and performs prediction**"
      ],
      "metadata": {
        "id": "gDyEfe3gu3lk"
      }
    },
    {
      "cell_type": "code",
      "source": [
        "clf = RandomForestClassifier()\n",
        "clf.fit(x_train,y_train)\n",
        "print('feature importances: ',clf.feature_importances_)\n",
        "\n",
        "y_clf_test_pred = clf.predict(x_test)\n",
        "print('performance:', clf.score(x_test, y_clf_test_pred))"
      ],
      "metadata": {
        "colab": {
          "base_uri": "https://localhost:8080/"
        },
        "id": "VeXfOniTu9ZN",
        "outputId": "f639df89-3011-4a10-c63e-bf210e75029b"
      },
      "execution_count": 17,
      "outputs": [
        {
          "output_type": "stream",
          "name": "stdout",
          "text": [
            "feature importances:  [0.07853754 0.02290757 0.42072733 0.47782756]\n",
            "performance: 1.0\n"
          ]
        }
      ]
    }
  ]
}